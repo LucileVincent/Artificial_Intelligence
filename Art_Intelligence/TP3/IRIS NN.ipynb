{
 "cells": [
  {
   "cell_type": "markdown",
   "id": "af94a660",
   "metadata": {},
   "source": [
    "The first part of the notebook remains the same :"
   ]
  },
  {
   "cell_type": "code",
   "execution_count": null,
   "id": "4e70a476",
   "metadata": {},
   "outputs": [],
   "source": [
    "from sklearn.datasets import load_iris\n",
    "import matplotlib.pyplot as plt\n",
    "import seaborn as sns\n",
    "import pandas as pd\n",
    "import numpy as np"
   ]
  },
  {
   "cell_type": "code",
   "execution_count": null,
   "id": "c4351cbb",
   "metadata": {},
   "outputs": [],
   "source": [
    "iris = load_iris()\n",
    "\n",
    "X = iris.data    # The inputs\n",
    "y = iris.target  # The wanted output\n",
    "\n",
    "df = pd.DataFrame(X,columns=iris.feature_names)\n",
    "df['Label']=y\n",
    "df['Species']=df['Label'].map({0: 'setosa', 1: 'versicolor', 2: 'virginica'})\n",
    "df = df.drop(['Label'], axis=1)"
   ]
  },
  {
   "cell_type": "code",
   "execution_count": null,
   "id": "566b120c",
   "metadata": {},
   "outputs": [],
   "source": [
    "sns.pairplot(df,  hue='Species')"
   ]
  },
  {
   "cell_type": "markdown",
   "id": "9e435710",
   "metadata": {},
   "source": [
    "# Let's import some modules for Neural Networks"
   ]
  },
  {
   "cell_type": "markdown",
   "id": "59711452",
   "metadata": {},
   "source": [
    "You can import Tensorflow as a global module and call directly all its submodules :"
   ]
  },
  {
   "cell_type": "code",
   "execution_count": null,
   "id": "f5a31f1a",
   "metadata": {},
   "outputs": [],
   "source": [
    "import tensorflow as tf\n",
    "modelXYZ = tf.keras.models.Sequential()"
   ]
  },
  {
   "cell_type": "markdown",
   "id": "cea448b5",
   "metadata": {},
   "source": [
    "Or you can import just what you need, and have less complicated code to read :"
   ]
  },
  {
   "cell_type": "code",
   "execution_count": null,
   "id": "dfa5ccfc",
   "metadata": {},
   "outputs": [],
   "source": [
    "from tensorflow.keras.models import Sequential\n",
    "from tensorflow.keras.layers import Dense\n",
    "from tensorflow.keras.utils  import to_categorical\n",
    "from tensorflow.keras.optimizers import Adam"
   ]
  },
  {
   "cell_type": "markdown",
   "id": "22c9cb0e",
   "metadata": {},
   "source": [
    "# Create a neural network with no hidden layers "
   ]
  },
  {
   "cell_type": "code",
   "execution_count": null,
   "id": "2224be5a",
   "metadata": {},
   "outputs": [],
   "source": [
    "# Create the model \n",
    "\n",
    "model = Sequential()\n",
    "\n",
    "# 4 -> number of input attributes\n",
    "# 3 -> number of classes\n",
    "model.add(Dense(units = 3, activation = 'softmax', input_shape=[4]))\n",
    "\n",
    "# Compile the model (check and allocate memory)\n",
    "adam_optimizer = Adam(learning_rate=0.01)\n",
    "model.compile(loss='categorical_crossentropy', optimizer=adam_optimizer, metrics=[\"binary_accuracy\"])\n",
    "\n",
    "# if you do not need to change default optimiser parameters, you can just use :\n",
    "#model.compile(loss='categorical_crossentropy', optimizer=\"adam\", metrics=[\"binary_accuracy\"])\n",
    "\n",
    "# Display the model summary\n",
    "model.summary()"
   ]
  },
  {
   "cell_type": "markdown",
   "id": "a9eec004",
   "metadata": {},
   "source": [
    "Prepare the data : Transform labels into binary class matrix"
   ]
  },
  {
   "cell_type": "code",
   "execution_count": null,
   "id": "2e07aaf5",
   "metadata": {},
   "outputs": [],
   "source": [
    "# The current state of output data :\n",
    "print(y)"
   ]
  },
  {
   "cell_type": "code",
   "execution_count": null,
   "id": "15087aa2",
   "metadata": {},
   "outputs": [],
   "source": [
    "# But to train ou neural network we need to transform each label into binary vector :\n",
    "# 0 -> [1,0,0]\n",
    "# 1 -> [0,1,0]\n",
    "# 2 -> [0,0,1]\n",
    "\n",
    "Y = to_categorical(y, num_classes=3)\n",
    "print (Y)"
   ]
  },
  {
   "cell_type": "markdown",
   "id": "c29b4fdf",
   "metadata": {},
   "source": [
    "# Train the model"
   ]
  },
  {
   "cell_type": "code",
   "execution_count": null,
   "id": "9f548347",
   "metadata": {},
   "outputs": [],
   "source": [
    "# now we call \"fit\" to train the neural network over 200 epochs.\n",
    "# the object \"history\" keeps all the intermediary values of loss and binary_accuracy\n",
    "# we will us it after to display their evolution over epochs\n",
    "\n",
    "history = model.fit( X, Y, epochs=200, verbose=1)"
   ]
  },
  {
   "cell_type": "markdown",
   "id": "0e0aa5f5",
   "metadata": {},
   "source": [
    "# Display Loss and Accuracy"
   ]
  },
  {
   "cell_type": "code",
   "execution_count": null,
   "id": "bbab6afc",
   "metadata": {},
   "outputs": [],
   "source": [
    "plt.plot(history.history['binary_accuracy'])\n",
    "plt.show()"
   ]
  },
  {
   "cell_type": "code",
   "execution_count": null,
   "id": "23eaf49b",
   "metadata": {},
   "outputs": [],
   "source": [
    "plt.plot(history.history['loss'])\n",
    "plt.show()"
   ]
  },
  {
   "cell_type": "markdown",
   "id": "3720798d",
   "metadata": {},
   "source": [
    "# What are the weights of the obtained network ?"
   ]
  },
  {
   "cell_type": "code",
   "execution_count": null,
   "id": "f5ba1e79",
   "metadata": {},
   "outputs": [],
   "source": [
    "for layer in model.layers:\n",
    "    print( layer.get_weights() )"
   ]
  },
  {
   "cell_type": "markdown",
   "id": "5174432f",
   "metadata": {},
   "source": [
    "# Guess the family of a new flower ?\n",
    "\n",
    "Let's use the model to predict the class of this new flower we just measured (6.9, 3.2, 5.7, 2.3) and which is not in the dataset : "
   ]
  },
  {
   "cell_type": "code",
   "execution_count": null,
   "id": "089d99e0",
   "metadata": {},
   "outputs": [],
   "source": [
    "model.predict([[6.9,3.2,5.7,2.3]])"
   ]
  },
  {
   "cell_type": "markdown",
   "id": "4627fa22",
   "metadata": {},
   "source": [
    "Not easy to read, but we see that the maximum value is the last one.\n",
    "\n",
    "That means that the model associated the flower to class 2 (Virginica).\n",
    "\n",
    "But can we round this output to understand it quickly :"
   ]
  },
  {
   "cell_type": "code",
   "execution_count": null,
   "id": "98e1f81c",
   "metadata": {},
   "outputs": [],
   "source": [
    "np.round (model.predict([[6.9,3.2,5.7,2.3]]))"
   ]
  },
  {
   "cell_type": "markdown",
   "id": "a4a9f79d",
   "metadata": {},
   "source": [
    "Or better, is it possible to display the label directly instead of binary vectors ?"
   ]
  },
  {
   "cell_type": "code",
   "execution_count": null,
   "id": "b232a65f",
   "metadata": {},
   "outputs": [],
   "source": [
    "np.argmax (model.predict([[6.9,3.2,5.7,2.3]]))"
   ]
  },
  {
   "cell_type": "code",
   "execution_count": null,
   "id": "f88c4877",
   "metadata": {},
   "outputs": [],
   "source": []
  }
 ],
 "metadata": {
  "kernelspec": {
   "display_name": "Python 3 (ipykernel)",
   "language": "python",
   "name": "python3"
  },
  "language_info": {
   "codemirror_mode": {
    "name": "ipython",
    "version": 3
   },
   "file_extension": ".py",
   "mimetype": "text/x-python",
   "name": "python",
   "nbconvert_exporter": "python",
   "pygments_lexer": "ipython3",
   "version": "3.10.8"
  }
 },
 "nbformat": 4,
 "nbformat_minor": 5
}
