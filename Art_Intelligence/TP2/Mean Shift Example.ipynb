{
 "cells": [
  {
   "cell_type": "code",
   "execution_count": null,
   "id": "22527752",
   "metadata": {},
   "outputs": [],
   "source": [
    "from sklearn.cluster import MeanShift\n",
    "from sklearn.datasets import make_blobs\n",
    "import matplotlib.pyplot as plt\n",
    "import numpy as np"
   ]
  },
  {
   "cell_type": "markdown",
   "id": "216a1fdb",
   "metadata": {},
   "source": [
    "# Simulate input data"
   ]
  },
  {
   "cell_type": "code",
   "execution_count": null,
   "id": "68e914d9",
   "metadata": {},
   "outputs": [],
   "source": [
    "np.random.seed(1)\n",
    "x, _ = make_blobs(n_samples=300, centers=5, cluster_std=.8)\n",
    "plt.scatter(x[:,0], x[:,1])\n",
    "plt.show()"
   ]
  },
  {
   "cell_type": "markdown",
   "id": "be701938",
   "metadata": {},
   "source": [
    "# Create and fit a Mean Shift Clustering"
   ]
  },
  {
   "cell_type": "code",
   "execution_count": null,
   "id": "0e0e705d",
   "metadata": {},
   "outputs": [],
   "source": [
    "mshclust=MeanShift(bandwidth=2)\n",
    "mshclust.fit(x)"
   ]
  },
  {
   "cell_type": "markdown",
   "id": "af6acaaa",
   "metadata": {},
   "source": [
    "# Display output"
   ]
  },
  {
   "cell_type": "code",
   "execution_count": null,
   "id": "eb349ad5",
   "metadata": {},
   "outputs": [],
   "source": [
    "labels = mshclust.labels_\n",
    "centers = mshclust.cluster_centers_\n",
    "\n",
    "plt.scatter(x[:,0], x[:,1], c=labels)\n",
    "plt.scatter(centers[:,0],centers[:,1], marker='*', color=\"r\",s=80 )\n",
    "plt.show()"
   ]
  }
 ],
 "metadata": {
  "kernelspec": {
   "display_name": "Python 3 (ipykernel)",
   "language": "python",
   "name": "python3"
  },
  "language_info": {
   "codemirror_mode": {
    "name": "ipython",
    "version": 3
   },
   "file_extension": ".py",
   "mimetype": "text/x-python",
   "name": "python",
   "nbconvert_exporter": "python",
   "pygments_lexer": "ipython3",
   "version": "3.10.8"
  }
 },
 "nbformat": 4,
 "nbformat_minor": 5
}
