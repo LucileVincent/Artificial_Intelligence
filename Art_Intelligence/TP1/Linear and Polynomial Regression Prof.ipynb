{
 "cells": [
  {
   "cell_type": "markdown",
   "id": "cca712be",
   "metadata": {},
   "source": [
    "# Linear and polynomial regression examples:\n",
    "\n",
    "For the same data, we will estimate a linear model, and a polynomial model :\n",
    "### Expected linear model (obtained from Excel):\n",
    "y = -0,052x + 62,561\n",
    "\n",
    "### Expected Polynomial with degree 2 model (obtained also from Excel):\n",
    "y = 0,0214 x<sup>2</sup> - 2,1948 x + 96,306"
   ]
  },
  {
   "cell_type": "markdown",
   "id": "b89a3ea6",
   "metadata": {},
   "source": [
    "## Python Code :"
   ]
  },
  {
   "cell_type": "code",
   "execution_count": 1,
   "id": "3f557c5f",
   "metadata": {},
   "outputs": [],
   "source": [
    "import numpy as np\n",
    "import matplotlib.pyplot as plt\n",
    "from sklearn import linear_model"
   ]
  },
  {
   "cell_type": "code",
   "execution_count": 2,
   "id": "e3facec5",
   "metadata": {
    "scrolled": false
   },
   "outputs": [
    {
     "name": "stdout",
     "output_type": "stream",
     "text": [
      "[[ 84.359   59.8077]\n",
      " [ 72.8205  52.5   ]\n",
      " [ 96.4103  49.4231]\n",
      " [  7.1795  90.1923]\n",
      " [ 10.2564  80.9615]\n",
      " [  5.8974  14.8077]\n",
      " [ 76.4103  56.3462]\n",
      " [ 75.641   84.0385]\n",
      " [ 73.3333  49.4231]\n",
      " [ 21.5385  50.1923]\n",
      " [ 38.9744  32.8846]\n",
      " [ 18.9744  66.3462]\n",
      " [ 16.9231  74.4231]\n",
      " [ 85.3846  30.1923]\n",
      " [  9.2308  62.8846]\n",
      " [ 34.359   37.8846]\n",
      " [ 89.7436  74.4231]\n",
      " [ 10.5128  90.1923]\n",
      " [ 15.8974  94.8077]\n",
      " [ 80.2564  59.0385]\n",
      " [ 85.641   70.9615]\n",
      " [  7.4359  38.6538]\n",
      " [ 30.2564  81.7308]\n",
      " [ 76.4103  42.5   ]\n",
      " [  6.6667  80.1923]\n",
      " [ 19.4872  55.5769]\n",
      " [ 31.7949  40.5769]\n",
      " [ 93.3333  94.8077]\n",
      " [ 15.3846  78.2692]\n",
      " [ 73.0769  57.8846]\n",
      " [ 82.3077  69.4231]\n",
      " [ 13.0769  91.7308]\n",
      " [ 12.5641  75.9615]\n",
      " [ 55.8974  38.6538]\n",
      " [ 91.2821  70.9615]\n",
      " [ 34.8718  55.9615]\n",
      " [ 24.1026  55.5769]\n",
      " [ 11.7949  70.9615]\n",
      " [ 79.7436  77.8846]\n",
      " [ 68.7179  49.4231]\n",
      " [ 90.2564  80.1923]\n",
      " [ 12.8205  83.6538]\n",
      " [ 38.4615  36.7308]\n",
      " [ 16.4103  57.5   ]\n",
      " [ 87.4359  75.5769]\n",
      " [ 11.5385  51.7308]\n",
      " [ 98.4615  61.7308]\n",
      " [ 33.0769  90.9615]\n",
      " [ 26.4103  41.7308]\n",
      " [  5.641   75.5769]\n",
      " [  9.2308  83.6538]\n",
      " [ 91.2821  26.3462]\n",
      " [ 38.9744  41.7308]\n",
      " [ 83.8462  50.5769]\n",
      " [ 84.6154  67.1154]\n",
      " [ 68.7179  27.1154]\n",
      " [ 12.3077  80.1923]\n",
      " [ 28.7179  63.2692]\n",
      " [ 27.4359  52.8846]\n",
      " [ 75.8974  66.3462]\n",
      " [ 12.3077  87.1154]\n",
      " [ 89.7436  85.5769]\n",
      " [ 20.2564  73.6538]\n",
      " [ 18.9744  36.3462]\n",
      " [ 83.5897  97.8846]\n",
      " [ 50.7692   4.0385]\n",
      " [ 97.9487  94.0385]\n",
      " [ 22.8205  46.3462]\n",
      " [ 68.2051  41.3462]\n",
      " [ 16.9231  83.6538]\n",
      " [ 21.7949  64.0385]\n",
      " [ 30.7692  48.6538]\n",
      " [ 16.9231  70.1923]\n",
      " [ 54.8718  24.8077]\n",
      " [ 85.3846  83.2692]\n",
      " [ 78.2051  61.7308]\n",
      " [ 39.7436  28.6538]\n",
      " [ 92.3077  82.8846]\n",
      " [ 42.3077  22.1154]\n",
      " [ 78.2051  59.4231]\n",
      " [ 91.2821  78.2692]\n",
      " [ 20.      77.8846]\n",
      " [ 36.9231  27.8846]\n",
      " [ 74.359   69.4231]\n",
      " [ 67.6923  61.7308]\n",
      " [ 10.7692  76.7308]\n",
      " [ 84.1026  42.5   ]\n",
      " [ 75.8974  50.5769]\n",
      " [ 93.8462  75.5769]\n",
      " [ 73.8462  34.0385]\n",
      " [  7.1795  95.5769]\n",
      " [ 87.1795  59.0385]\n",
      " [ 60.5128  41.3462]\n",
      " [  3.5897 100.9615]\n",
      " [ 14.359   71.3462]\n",
      " [ 65.8974  43.2692]\n",
      " [ 70.      47.1154]\n",
      " [ 80.2564  56.3462]\n",
      " [ 24.8718  64.8077]\n",
      " [ 35.641   33.6538]\n",
      " [ 64.1026  37.8846]\n",
      " [ 60.7692  25.1923]\n",
      " [ 84.6154  74.4231]\n",
      " [ 17.6923  51.7308]\n",
      " [ 21.2821  57.5   ]\n",
      " [ 64.6154  54.4231]\n",
      " [ 30.5128  44.4231]\n",
      " [ 70.2564  43.2692]\n",
      " [ 27.1795  24.4231]\n",
      " [ 82.0513  65.9615]\n",
      " [ 26.4103  57.8846]\n",
      " [  8.4615  87.5   ]\n",
      " [ 52.0513  57.1154]\n",
      " [ 36.4103  38.2692]\n",
      " [ 22.3077  85.5769]\n",
      " [ 17.9487  61.3462]\n",
      " [ 44.8718  35.1923]\n",
      " [ 29.7436  36.3462]\n",
      " [ 27.6923  46.3462]\n",
      " [ 63.5897  34.8077]\n",
      " [ 67.4359  37.8846]\n",
      " [ 14.6154  65.5769]\n",
      " [ 72.8205  63.2692]\n",
      " [ 28.4615  69.8077]\n",
      " [ 66.6667  33.2692]\n",
      " [ 61.0256  32.5   ]\n",
      " [  4.8718  85.1923]\n",
      " [  4.6154  96.7308]\n",
      " [ 22.0513  68.6538]\n",
      " [ 78.4615  52.8846]\n",
      " [ 88.2051  89.4231]\n",
      " [ 32.8205  42.5   ]\n",
      " [ 97.6923  85.5769]\n",
      " [ 79.4872  67.1154]\n",
      " [ 87.9487  69.4231]\n",
      " [  2.5641  91.7308]\n",
      " [ 29.2308  41.3462]\n",
      " [ 25.641   50.5769]\n",
      " [ 20.2564  60.1923]\n",
      " [ 23.0769  52.8846]\n",
      " [ 97.1795  75.5769]\n",
      " [ 93.5897  87.1154]\n",
      " [ 35.8974  47.8846]\n",
      " [ 64.359   30.9615]\n",
      " [ 23.8462  60.1923]\n",
      " [ 67.9487  44.0385]\n",
      " [ 85.641   79.4231]\n",
      " [ 72.5641  45.5769]\n",
      " [ 82.5641  62.5   ]\n",
      " [ 37.4359  67.8846]]\n"
     ]
    }
   ],
   "source": [
    "f= open(\"regression-example-data.csv\")\n",
    "data = np.loadtxt(f, delimiter=\";\")\n",
    "print(data)"
   ]
  },
  {
   "cell_type": "code",
   "execution_count": 3,
   "id": "e64d9c35",
   "metadata": {},
   "outputs": [
    {
     "name": "stdout",
     "output_type": "stream",
     "text": [
      "(150, 2)\n"
     ]
    }
   ],
   "source": [
    "print (data.shape)"
   ]
  },
  {
   "cell_type": "code",
   "execution_count": 4,
   "id": "0281e89c",
   "metadata": {},
   "outputs": [],
   "source": [
    "X = data[:,0]   # First column\n",
    "Y = data[:,1]   # Second Column"
   ]
  },
  {
   "cell_type": "code",
   "execution_count": 5,
   "id": "b48b34eb",
   "metadata": {},
   "outputs": [
    {
     "data": {
      "text/plain": [
       "<matplotlib.collections.PathCollection at 0x17b0b575540>"
      ]
     },
     "execution_count": 5,
     "metadata": {},
     "output_type": "execute_result"
    },
    {
     "data": {
      "image/png": "[encoded data removed]",
      "text/plain": [
       "<Figure size 640x480 with 1 Axes>"
      ]
     },
     "metadata": {},
     "output_type": "display_data"
    }
   ],
   "source": [
    "plt.scatter (X, Y)"
   ]
  },
  {
   "cell_type": "markdown",
   "id": "08edcefa",
   "metadata": {},
   "source": [
    "Instanciate the linear model"
   ]
  },
  {
   "cell_type": "code",
   "execution_count": 6,
   "id": "8369cb78",
   "metadata": {},
   "outputs": [],
   "source": [
    "reg = linear_model.LinearRegression()"
   ]
  },
  {
   "cell_type": "markdown",
   "id": "cb294d58",
   "metadata": {},
   "source": [
    "Convert X from 1D to 2D :"
   ]
  },
  {
   "cell_type": "code",
   "execution_count": 7,
   "id": "11f0df97",
   "metadata": {},
   "outputs": [
    {
     "name": "stdout",
     "output_type": "stream",
     "text": [
      "[84.359  72.8205 96.4103  7.1795 10.2564  5.8974 76.4103 75.641  73.3333\n",
      " 21.5385 38.9744 18.9744 16.9231 85.3846  9.2308 34.359  89.7436 10.5128\n",
      " 15.8974 80.2564 85.641   7.4359 30.2564 76.4103  6.6667 19.4872 31.7949\n",
      " 93.3333 15.3846 73.0769 82.3077 13.0769 12.5641 55.8974 91.2821 34.8718\n",
      " 24.1026 11.7949 79.7436 68.7179 90.2564 12.8205 38.4615 16.4103 87.4359\n",
      " 11.5385 98.4615 33.0769 26.4103  5.641   9.2308 91.2821 38.9744 83.8462\n",
      " 84.6154 68.7179 12.3077 28.7179 27.4359 75.8974 12.3077 89.7436 20.2564\n",
      " 18.9744 83.5897 50.7692 97.9487 22.8205 68.2051 16.9231 21.7949 30.7692\n",
      " 16.9231 54.8718 85.3846 78.2051 39.7436 92.3077 42.3077 78.2051 91.2821\n",
      " 20.     36.9231 74.359  67.6923 10.7692 84.1026 75.8974 93.8462 73.8462\n",
      "  7.1795 87.1795 60.5128  3.5897 14.359  65.8974 70.     80.2564 24.8718\n",
      " 35.641  64.1026 60.7692 84.6154 17.6923 21.2821 64.6154 30.5128 70.2564\n",
      " 27.1795 82.0513 26.4103  8.4615 52.0513 36.4103 22.3077 17.9487 44.8718\n",
      " 29.7436 27.6923 63.5897 67.4359 14.6154 72.8205 28.4615 66.6667 61.0256\n",
      "  4.8718  4.6154 22.0513 78.4615 88.2051 32.8205 97.6923 79.4872 87.9487\n",
      "  2.5641 29.2308 25.641  20.2564 23.0769 97.1795 93.5897 35.8974 64.359\n",
      " 23.8462 67.9487 85.641  72.5641 82.5641 37.4359]\n"
     ]
    }
   ],
   "source": [
    "print (X)"
   ]
  },
  {
   "cell_type": "code",
   "execution_count": 9,
   "id": "2e543764",
   "metadata": {},
   "outputs": [
    {
     "name": "stdout",
     "output_type": "stream",
     "text": [
      "(150,)\n"
     ]
    }
   ],
   "source": [
    "print (X.shape)"
   ]
  },
  {
   "cell_type": "code",
   "execution_count": 12,
   "id": "d2352b22",
   "metadata": {},
   "outputs": [
    {
     "name": "stdout",
     "output_type": "stream",
     "text": [
      "[[84.359 ]\n",
      " [72.8205]\n",
      " [96.4103]\n",
      " [ 7.1795]\n",
      " [10.2564]\n",
      " [ 5.8974]\n",
      " [76.4103]\n",
      " [75.641 ]\n",
      " [73.3333]\n",
      " [21.5385]\n",
      " [38.9744]\n",
      " [18.9744]\n",
      " [16.9231]\n",
      " [85.3846]\n",
      " [ 9.2308]\n",
      " [34.359 ]\n",
      " [89.7436]\n",
      " [10.5128]\n",
      " [15.8974]\n",
      " [80.2564]\n",
      " [85.641 ]\n",
      " [ 7.4359]\n",
      " [30.2564]\n",
      " [76.4103]\n",
      " [ 6.6667]\n",
      " [19.4872]\n",
      " [31.7949]\n",
      " [93.3333]\n",
      " [15.3846]\n",
      " [73.0769]\n",
      " [82.3077]\n",
      " [13.0769]\n",
      " [12.5641]\n",
      " [55.8974]\n",
      " [91.2821]\n",
      " [34.8718]\n",
      " [24.1026]\n",
      " [11.7949]\n",
      " [79.7436]\n",
      " [68.7179]\n",
      " [90.2564]\n",
      " [12.8205]\n",
      " [38.4615]\n",
      " [16.4103]\n",
      " [87.4359]\n",
      " [11.5385]\n",
      " [98.4615]\n",
      " [33.0769]\n",
      " [26.4103]\n",
      " [ 5.641 ]\n",
      " [ 9.2308]\n",
      " [91.2821]\n",
      " [38.9744]\n",
      " [83.8462]\n",
      " [84.6154]\n",
      " [68.7179]\n",
      " [12.3077]\n",
      " [28.7179]\n",
      " [27.4359]\n",
      " [75.8974]\n",
      " [12.3077]\n",
      " [89.7436]\n",
      " [20.2564]\n",
      " [18.9744]\n",
      " [83.5897]\n",
      " [50.7692]\n",
      " [97.9487]\n",
      " [22.8205]\n",
      " [68.2051]\n",
      " [16.9231]\n",
      " [21.7949]\n",
      " [30.7692]\n",
      " [16.9231]\n",
      " [54.8718]\n",
      " [85.3846]\n",
      " [78.2051]\n",
      " [39.7436]\n",
      " [92.3077]\n",
      " [42.3077]\n",
      " [78.2051]\n",
      " [91.2821]\n",
      " [20.    ]\n",
      " [36.9231]\n",
      " [74.359 ]\n",
      " [67.6923]\n",
      " [10.7692]\n",
      " [84.1026]\n",
      " [75.8974]\n",
      " [93.8462]\n",
      " [73.8462]\n",
      " [ 7.1795]\n",
      " [87.1795]\n",
      " [60.5128]\n",
      " [ 3.5897]\n",
      " [14.359 ]\n",
      " [65.8974]\n",
      " [70.    ]\n",
      " [80.2564]\n",
      " [24.8718]\n",
      " [35.641 ]\n",
      " [64.1026]\n",
      " [60.7692]\n",
      " [84.6154]\n",
      " [17.6923]\n",
      " [21.2821]\n",
      " [64.6154]\n",
      " [30.5128]\n",
      " [70.2564]\n",
      " [27.1795]\n",
      " [82.0513]\n",
      " [26.4103]\n",
      " [ 8.4615]\n",
      " [52.0513]\n",
      " [36.4103]\n",
      " [22.3077]\n",
      " [17.9487]\n",
      " [44.8718]\n",
      " [29.7436]\n",
      " [27.6923]\n",
      " [63.5897]\n",
      " [67.4359]\n",
      " [14.6154]\n",
      " [72.8205]\n",
      " [28.4615]\n",
      " [66.6667]\n",
      " [61.0256]\n",
      " [ 4.8718]\n",
      " [ 4.6154]\n",
      " [22.0513]\n",
      " [78.4615]\n",
      " [88.2051]\n",
      " [32.8205]\n",
      " [97.6923]\n",
      " [79.4872]\n",
      " [87.9487]\n",
      " [ 2.5641]\n",
      " [29.2308]\n",
      " [25.641 ]\n",
      " [20.2564]\n",
      " [23.0769]\n",
      " [97.1795]\n",
      " [93.5897]\n",
      " [35.8974]\n",
      " [64.359 ]\n",
      " [23.8462]\n",
      " [67.9487]\n",
      " [85.641 ]\n",
      " [72.5641]\n",
      " [82.5641]\n",
      " [37.4359]]\n"
     ]
    }
   ],
   "source": [
    "X = X.reshape(-1, 1)\n",
    "print (X)"
   ]
  },
  {
   "cell_type": "markdown",
   "id": "85c2d401",
   "metadata": {},
   "source": [
    "Training (fitting) the model using our data "
   ]
  },
  {
   "cell_type": "code",
   "execution_count": 13,
   "id": "d2b69df6",
   "metadata": {},
   "outputs": [
    {
     "data": {
      "text/html": [
       "<style>#sk-container-id-1 {color: black;background-color: white;}#sk-container-id-1 pre{padding: 0;}#sk-container-id-1 div.sk-toggleable {background-color: white;}#sk-container-id-1 label.sk-toggleable__label {cursor: pointer;display: block;width: 100%;margin-bottom: 0;padding: 0.3em;box-sizing: border-box;text-align: center;}#sk-container-id-1 label.sk-toggleable__label-arrow:before {content: \"▸\";float: left;margin-right: 0.25em;color: #696969;}#sk-container-id-1 label.sk-toggleable__label-arrow:hover:before {color: black;}#sk-container-id-1 div.sk-estimator:hover label.sk-toggleable__label-arrow:before {color: black;}#sk-container-id-1 div.sk-toggleable__content {max-height: 0;max-width: 0;overflow: hidden;text-align: left;background-color: #f0f8ff;}#sk-container-id-1 div.sk-toggleable__content pre {margin: 0.2em;color: black;border-radius: 0.25em;background-color: #f0f8ff;}#sk-container-id-1 input.sk-toggleable__control:checked~div.sk-toggleable__content {max-height: 200px;max-width: 100%;overflow: auto;}#sk-container-id-1 input.sk-toggleable__control:checked~label.sk-toggleable__label-arrow:before {content: \"▾\";}#sk-container-id-1 div.sk-estimator input.sk-toggleable__control:checked~label.sk-toggleable__label {background-color: #d4ebff;}#sk-container-id-1 div.sk-label input.sk-toggleable__control:checked~label.sk-toggleable__label {background-color: #d4ebff;}#sk-container-id-1 input.sk-hidden--visually {border: 0;clip: rect(1px 1px 1px 1px);clip: rect(1px, 1px, 1px, 1px);height: 1px;margin: -1px;overflow: hidden;padding: 0;position: absolute;width: 1px;}#sk-container-id-1 div.sk-estimator {font-family: monospace;background-color: #f0f8ff;border: 1px dotted black;border-radius: 0.25em;box-sizing: border-box;margin-bottom: 0.5em;}#sk-container-id-1 div.sk-estimator:hover {background-color: #d4ebff;}#sk-container-id-1 div.sk-parallel-item::after {content: \"\";width: 100%;border-bottom: 1px solid gray;flex-grow: 1;}#sk-container-id-1 div.sk-label:hover label.sk-toggleable__label {background-color: #d4ebff;}#sk-container-id-1 div.sk-serial::before {content: \"\";position: absolute;border-left: 1px solid gray;box-sizing: border-box;top: 0;bottom: 0;left: 50%;z-index: 0;}#sk-container-id-1 div.sk-serial {display: flex;flex-direction: column;align-items: center;background-color: white;padding-right: 0.2em;padding-left: 0.2em;position: relative;}#sk-container-id-1 div.sk-item {position: relative;z-index: 1;}#sk-container-id-1 div.sk-parallel {display: flex;align-items: stretch;justify-content: center;background-color: white;position: relative;}#sk-container-id-1 div.sk-item::before, #sk-container-id-1 div.sk-parallel-item::before {content: \"\";position: absolute;border-left: 1px solid gray;box-sizing: border-box;top: 0;bottom: 0;left: 50%;z-index: -1;}#sk-container-id-1 div.sk-parallel-item {display: flex;flex-direction: column;z-index: 1;position: relative;background-color: white;}#sk-container-id-1 div.sk-parallel-item:first-child::after {align-self: flex-end;width: 50%;}#sk-container-id-1 div.sk-parallel-item:last-child::after {align-self: flex-start;width: 50%;}#sk-container-id-1 div.sk-parallel-item:only-child::after {width: 0;}#sk-container-id-1 div.sk-dashed-wrapped {border: 1px dashed gray;margin: 0 0.4em 0.5em 0.4em;box-sizing: border-box;padding-bottom: 0.4em;background-color: white;}#sk-container-id-1 div.sk-label label {font-family: monospace;font-weight: bold;display: inline-block;line-height: 1.2em;}#sk-container-id-1 div.sk-label-container {text-align: center;}#sk-container-id-1 div.sk-container {/* jupyter's `normalize.less` sets `[hidden] { display: none; }` but bootstrap.min.css set `[hidden] { display: none !important; }` so we also need the `!important` here to be able to override the default hidden behavior on the sphinx rendered scikit-learn.org. See: https://github.com/scikit-learn/scikit-learn/issues/21755 */display: inline-block !important;position: relative;}#sk-container-id-1 div.sk-text-repr-fallback {display: none;}</style><div id=\"sk-container-id-1\" class=\"sk-top-container\"><div class=\"sk-text-repr-fallback\"><pre>LinearRegression()</pre><b>In a Jupyter environment, please rerun this cell to show the HTML representation or trust the notebook. <br />On GitHub, the HTML representation is unable to render, please try loading this page with nbviewer.org.</b></div><div class=\"sk-container\" hidden><div class=\"sk-item\"><div class=\"sk-estimator sk-toggleable\"><input class=\"sk-toggleable__control sk-hidden--visually\" id=\"sk-estimator-id-1\" type=\"checkbox\" checked><label for=\"sk-estimator-id-1\" class=\"sk-toggleable__label sk-toggleable__label-arrow\">LinearRegression</label><div class=\"sk-toggleable__content\"><pre>LinearRegression()</pre></div></div></div></div></div>"
      ],
      "text/plain": [
       "LinearRegression()"
      ]
     },
     "execution_count": 13,
     "metadata": {},
     "output_type": "execute_result"
    }
   ],
   "source": [
    "reg.fit(X,Y)"
   ]
  },
  {
   "cell_type": "code",
   "execution_count": 14,
   "id": "71b22516",
   "metadata": {},
   "outputs": [
    {
     "data": {
      "text/plain": [
       "array([-0.05203966])"
      ]
     },
     "execution_count": 14,
     "metadata": {},
     "output_type": "execute_result"
    }
   ],
   "source": [
    " reg.coef_"
   ]
  },
  {
   "cell_type": "code",
   "execution_count": 15,
   "id": "c5717f90",
   "metadata": {},
   "outputs": [
    {
     "data": {
      "text/plain": [
       "62.5612467676423"
      ]
     },
     "execution_count": 15,
     "metadata": {},
     "output_type": "execute_result"
    }
   ],
   "source": [
    "reg.intercept_"
   ]
  },
  {
   "cell_type": "code",
   "execution_count": 16,
   "id": "564ecffb",
   "metadata": {},
   "outputs": [],
   "source": [
    "Y_predicted = reg.predict(X)"
   ]
  },
  {
   "cell_type": "code",
   "execution_count": 17,
   "id": "14d2ae86",
   "metadata": {},
   "outputs": [
    {
     "data": {
      "text/plain": [
       "<matplotlib.collections.PathCollection at 0x17b0b6f6c80>"
      ]
     },
     "execution_count": 17,
     "metadata": {},
     "output_type": "execute_result"
    },
    {
     "data": {
      "image/png": "[encoded data removed]",
      "text/plain": [
       "<Figure size 640x480 with 1 Axes>"
      ]
     },
     "metadata": {},
     "output_type": "display_data"
    }
   ],
   "source": [
    "for i in range (X.size):\n",
    "    plt.plot( (X[i],X[i]) , (Y[i],Y_predicted[i]) ,c='gray')\n",
    "    \n",
    "plt.scatter (X, Y_predicted)\n",
    "plt.scatter (X, Y)"
   ]
  },
  {
   "cell_type": "markdown",
   "id": "9f45ebc7",
   "metadata": {},
   "source": [
    "# Polynomial model"
   ]
  },
  {
   "cell_type": "code",
   "execution_count": 34,
   "id": "e474a0c5",
   "metadata": {},
   "outputs": [
    {
     "name": "stderr",
     "output_type": "stream",
     "text": [
      "C:\\Miniconda3\\envs\\ai\\lib\\site-packages\\sklearn\\linear_model\\_ridge.py:212: LinAlgWarning: Ill-conditioned matrix (rcond=9.57722e-18): result may not be accurate.\n",
      "  return linalg.solve(A, Xy, assume_a=\"pos\", overwrite_a=True).T\n"
     ]
    },
    {
     "data": {
      "text/html": [
       "<style>#sk-container-id-4 {color: black;background-color: white;}#sk-container-id-4 pre{padding: 0;}#sk-container-id-4 div.sk-toggleable {background-color: white;}#sk-container-id-4 label.sk-toggleable__label {cursor: pointer;display: block;width: 100%;margin-bottom: 0;padding: 0.3em;box-sizing: border-box;text-align: center;}#sk-container-id-4 label.sk-toggleable__label-arrow:before {content: \"▸\";float: left;margin-right: 0.25em;color: #696969;}#sk-container-id-4 label.sk-toggleable__label-arrow:hover:before {color: black;}#sk-container-id-4 div.sk-estimator:hover label.sk-toggleable__label-arrow:before {color: black;}#sk-container-id-4 div.sk-toggleable__content {max-height: 0;max-width: 0;overflow: hidden;text-align: left;background-color: #f0f8ff;}#sk-container-id-4 div.sk-toggleable__content pre {margin: 0.2em;color: black;border-radius: 0.25em;background-color: #f0f8ff;}#sk-container-id-4 input.sk-toggleable__control:checked~div.sk-toggleable__content {max-height: 200px;max-width: 100%;overflow: auto;}#sk-container-id-4 input.sk-toggleable__control:checked~label.sk-toggleable__label-arrow:before {content: \"▾\";}#sk-container-id-4 div.sk-estimator input.sk-toggleable__control:checked~label.sk-toggleable__label {background-color: #d4ebff;}#sk-container-id-4 div.sk-label input.sk-toggleable__control:checked~label.sk-toggleable__label {background-color: #d4ebff;}#sk-container-id-4 input.sk-hidden--visually {border: 0;clip: rect(1px 1px 1px 1px);clip: rect(1px, 1px, 1px, 1px);height: 1px;margin: -1px;overflow: hidden;padding: 0;position: absolute;width: 1px;}#sk-container-id-4 div.sk-estimator {font-family: monospace;background-color: #f0f8ff;border: 1px dotted black;border-radius: 0.25em;box-sizing: border-box;margin-bottom: 0.5em;}#sk-container-id-4 div.sk-estimator:hover {background-color: #d4ebff;}#sk-container-id-4 div.sk-parallel-item::after {content: \"\";width: 100%;border-bottom: 1px solid gray;flex-grow: 1;}#sk-container-id-4 div.sk-label:hover label.sk-toggleable__label {background-color: #d4ebff;}#sk-container-id-4 div.sk-serial::before {content: \"\";position: absolute;border-left: 1px solid gray;box-sizing: border-box;top: 0;bottom: 0;left: 50%;z-index: 0;}#sk-container-id-4 div.sk-serial {display: flex;flex-direction: column;align-items: center;background-color: white;padding-right: 0.2em;padding-left: 0.2em;position: relative;}#sk-container-id-4 div.sk-item {position: relative;z-index: 1;}#sk-container-id-4 div.sk-parallel {display: flex;align-items: stretch;justify-content: center;background-color: white;position: relative;}#sk-container-id-4 div.sk-item::before, #sk-container-id-4 div.sk-parallel-item::before {content: \"\";position: absolute;border-left: 1px solid gray;box-sizing: border-box;top: 0;bottom: 0;left: 50%;z-index: -1;}#sk-container-id-4 div.sk-parallel-item {display: flex;flex-direction: column;z-index: 1;position: relative;background-color: white;}#sk-container-id-4 div.sk-parallel-item:first-child::after {align-self: flex-end;width: 50%;}#sk-container-id-4 div.sk-parallel-item:last-child::after {align-self: flex-start;width: 50%;}#sk-container-id-4 div.sk-parallel-item:only-child::after {width: 0;}#sk-container-id-4 div.sk-dashed-wrapped {border: 1px dashed gray;margin: 0 0.4em 0.5em 0.4em;box-sizing: border-box;padding-bottom: 0.4em;background-color: white;}#sk-container-id-4 div.sk-label label {font-family: monospace;font-weight: bold;display: inline-block;line-height: 1.2em;}#sk-container-id-4 div.sk-label-container {text-align: center;}#sk-container-id-4 div.sk-container {/* jupyter's `normalize.less` sets `[hidden] { display: none; }` but bootstrap.min.css set `[hidden] { display: none !important; }` so we also need the `!important` here to be able to override the default hidden behavior on the sphinx rendered scikit-learn.org. See: https://github.com/scikit-learn/scikit-learn/issues/21755 */display: inline-block !important;position: relative;}#sk-container-id-4 div.sk-text-repr-fallback {display: none;}</style><div id=\"sk-container-id-4\" class=\"sk-top-container\"><div class=\"sk-text-repr-fallback\"><pre>Pipeline(steps=[(&#x27;polynomialfeatures&#x27;, PolynomialFeatures(degree=4)),\n",
       "                (&#x27;ridge&#x27;, Ridge())])</pre><b>In a Jupyter environment, please rerun this cell to show the HTML representation or trust the notebook. <br />On GitHub, the HTML representation is unable to render, please try loading this page with nbviewer.org.</b></div><div class=\"sk-container\" hidden><div class=\"sk-item sk-dashed-wrapped\"><div class=\"sk-label-container\"><div class=\"sk-label sk-toggleable\"><input class=\"sk-toggleable__control sk-hidden--visually\" id=\"sk-estimator-id-8\" type=\"checkbox\" ><label for=\"sk-estimator-id-8\" class=\"sk-toggleable__label sk-toggleable__label-arrow\">Pipeline</label><div class=\"sk-toggleable__content\"><pre>Pipeline(steps=[(&#x27;polynomialfeatures&#x27;, PolynomialFeatures(degree=4)),\n",
       "                (&#x27;ridge&#x27;, Ridge())])</pre></div></div></div><div class=\"sk-serial\"><div class=\"sk-item\"><div class=\"sk-estimator sk-toggleable\"><input class=\"sk-toggleable__control sk-hidden--visually\" id=\"sk-estimator-id-9\" type=\"checkbox\" ><label for=\"sk-estimator-id-9\" class=\"sk-toggleable__label sk-toggleable__label-arrow\">PolynomialFeatures</label><div class=\"sk-toggleable__content\"><pre>PolynomialFeatures(degree=4)</pre></div></div></div><div class=\"sk-item\"><div class=\"sk-estimator sk-toggleable\"><input class=\"sk-toggleable__control sk-hidden--visually\" id=\"sk-estimator-id-10\" type=\"checkbox\" ><label for=\"sk-estimator-id-10\" class=\"sk-toggleable__label sk-toggleable__label-arrow\">Ridge</label><div class=\"sk-toggleable__content\"><pre>Ridge()</pre></div></div></div></div></div></div></div>"
      ],
      "text/plain": [
       "Pipeline(steps=[('polynomialfeatures', PolynomialFeatures(degree=4)),\n",
       "                ('ridge', Ridge())])"
      ]
     },
     "execution_count": 34,
     "metadata": {},
     "output_type": "execute_result"
    }
   ],
   "source": [
    "from sklearn.preprocessing import PolynomialFeatures\n",
    "from sklearn.pipeline import make_pipeline\n",
    "from sklearn.linear_model import Ridge\n",
    "\n",
    "poly =  make_pipeline(PolynomialFeatures(degree=4), Ridge())\n",
    "\n",
    "poly.fit(X, Y)"
   ]
  },
  {
   "cell_type": "code",
   "execution_count": 35,
   "id": "f1e93e7b",
   "metadata": {
    "scrolled": true
   },
   "outputs": [
    {
     "data": {
      "text/plain": [
       "array([-560.31273564,   32.54344789])"
      ]
     },
     "execution_count": 35,
     "metadata": {},
     "output_type": "execute_result"
    }
   ],
   "source": [
    "poly.predict([[150],[50]])"
   ]
  },
  {
   "cell_type": "code",
   "execution_count": 36,
   "id": "1678f114",
   "metadata": {},
   "outputs": [
    {
     "data": {
      "text/plain": [
       "[<matplotlib.lines.Line2D at 0x17b13a70b20>]"
      ]
     },
     "execution_count": 36,
     "metadata": {},
     "output_type": "execute_result"
    },
    {
     "data": {
      "image/png": "[encoded data removed]",
      "text/plain": [
       "<Figure size 640x480 with 1 Axes>"
      ]
     },
     "metadata": {},
     "output_type": "display_data"
    }
   ],
   "source": [
    "#for i in range (X.size):\n",
    "#    plt.plot( (X[i],X[i]) , (Y[i],Y_predicted_poly[i]) ,c='gray')\n",
    "    \n",
    "plt.scatter (X, Y)\n",
    "\n",
    "# This time we choose to display a line instead of a set of predicted points\n",
    "x_plot = np.linspace(0, 100, 100)\n",
    "X_plot = x_plot[:, np.newaxis]  # Same as reshape(-1,1)\n",
    "Y_predicted_poly = poly.predict(X_plot)\n",
    "\n",
    "plt.plot (X_plot, Y_predicted_poly, c=\"red\")"
   ]
  },
  {
   "cell_type": "code",
   "execution_count": 37,
   "id": "9095e4b3",
   "metadata": {
    "scrolled": true
   },
   "outputs": [
    {
     "data": {
      "text/plain": [
       "array([ 0.00000000e+00,  8.05049077e-01, -1.11828822e-01,  2.06032138e-03,\n",
       "       -1.02656583e-05])"
      ]
     },
     "execution_count": 37,
     "metadata": {},
     "output_type": "execute_result"
    }
   ],
   "source": [
    "poly.steps[1][1].coef_"
   ]
  },
  {
   "cell_type": "code",
   "execution_count": 38,
   "id": "497735c5",
   "metadata": {
    "scrolled": true
   },
   "outputs": [
    {
     "data": {
      "text/plain": [
       "78.48324132184253"
      ]
     },
     "execution_count": 38,
     "metadata": {},
     "output_type": "execute_result"
    }
   ],
   "source": [
    "poly.steps[1][1].intercept_"
   ]
  },
  {
   "cell_type": "markdown",
   "id": "40ca53a8",
   "metadata": {},
   "source": [
    "# Exercice :\n",
    "Split the data into two groups (X<50 and X>=50) and apply a linear regression for each group."
   ]
  },
  {
   "cell_type": "code",
   "execution_count": null,
   "id": "45f2f8d2",
   "metadata": {},
   "outputs": [],
   "source": []
  },
  {
   "cell_type": "code",
   "execution_count": null,
   "id": "cfc7d6d9",
   "metadata": {},
   "outputs": [],
   "source": []
  },
  {
   "cell_type": "code",
   "execution_count": null,
   "id": "c60bb4f5",
   "metadata": {},
   "outputs": [],
   "source": []
  }
 ],
 "metadata": {
  "kernelspec": {
   "display_name": "Python 3 (ipykernel)",
   "language": "python",
   "name": "python3"
  },
  "language_info": {
   "codemirror_mode": {
    "name": "ipython",
    "version": 3
   },
   "file_extension": ".py",
   "mimetype": "text/x-python",
   "name": "python",
   "nbconvert_exporter": "python",
   "pygments_lexer": "ipython3",
   "version": "3.10.8"
  }
 },
 "nbformat": 4,
 "nbformat_minor": 5
}
